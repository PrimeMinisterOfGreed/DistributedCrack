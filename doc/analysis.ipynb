{
 "cells": [
  {
   "cell_type": "code",
   "execution_count": 1,
   "id": "6b14fc0b",
   "metadata": {},
   "outputs": [],
   "source": [
    "import pandas as pd\n",
    "\n",
    "stats = pd.read_csv('stats.csv')"
   ]
  },
  {
   "cell_type": "code",
   "execution_count": 3,
   "id": "9df13514",
   "metadata": {},
   "outputs": [
    {
     "data": {
      "application/vnd.microsoft.datawrangler.viewer.v0+json": {
       "columns": [
        {
         "name": "index",
         "rawType": "int64",
         "type": "integer"
        },
        {
         "name": "time_stamp",
         "rawType": "int64",
         "type": "integer"
        }
       ],
       "ref": "d04866ef-a11a-4313-9463-575599a60586",
       "rows": [
        [
         "0",
         "1748321272"
        ],
        [
         "2",
         "1748321278"
        ],
        [
         "5",
         "1748321282"
        ],
        [
         "9",
         "1748321287"
        ],
        [
         "15",
         "1748321311"
        ]
       ],
       "shape": {
        "columns": 1,
        "rows": 5
       }
      },
      "text/plain": [
       "0     1748321272\n",
       "2     1748321278\n",
       "5     1748321282\n",
       "9     1748321287\n",
       "15    1748321311\n",
       "Name: time_stamp, dtype: int64"
      ]
     },
     "execution_count": 3,
     "metadata": {},
     "output_type": "execute_result"
    }
   ],
   "source": [
    "sessions = stats[\"time_stamp\"].drop_duplicates()\n",
    "sessions"
   ]
  },
  {
   "cell_type": "code",
   "execution_count": 11,
   "id": "0791e7d4",
   "metadata": {},
   "outputs": [
    {
     "name": "stdout",
     "output_type": "stream",
     "text": [
      "0        root\n",
      "1    worker 1\n",
      "Name: device_name, dtype: object\n",
      "2        root\n",
      "3    worker 1\n",
      "4    worker 2\n",
      "Name: device_name, dtype: object\n",
      "5        root\n",
      "6    worker 2\n",
      "7    worker 3\n",
      "8    worker 1\n",
      "Name: device_name, dtype: object\n",
      "9     worker 4\n",
      "10        root\n",
      "11    worker 2\n",
      "12    worker 5\n",
      "13    worker 1\n",
      "14    worker 3\n",
      "Name: device_name, dtype: object\n",
      "15    worker 2\n",
      "16        root\n",
      "17    worker 6\n",
      "18    worker 4\n",
      "19    worker 1\n",
      "20    worker 7\n",
      "21    worker 5\n",
      "22    worker 3\n",
      "Name: device_name, dtype: object\n"
     ]
    }
   ],
   "source": [
    "devices_per_session = stats.groupby('time_stamp')\n",
    "\n",
    "for data in devices_per_session:\n",
    "    print(data[1][\"device_name\"])"
   ]
  }
 ],
 "metadata": {
  "kernelspec": {
   "display_name": "Python 3 (ipykernel)",
   "language": "python",
   "name": "python3"
  },
  "language_info": {
   "codemirror_mode": {
    "name": "ipython",
    "version": 3
   },
   "file_extension": ".py",
   "mimetype": "text/x-python",
   "name": "python",
   "nbconvert_exporter": "python",
   "pygments_lexer": "ipython3",
   "version": "3.13.3"
  }
 },
 "nbformat": 4,
 "nbformat_minor": 5
}
