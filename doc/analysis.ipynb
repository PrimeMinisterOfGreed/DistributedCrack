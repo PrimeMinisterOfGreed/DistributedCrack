{
 "cells": [
  {
   "cell_type": "code",
   "execution_count": 6,
   "id": "6b14fc0b",
   "metadata": {},
   "outputs": [],
   "source": [
    "import pandas as pd\n",
    "\n",
    "stats = pd.read_csv('/home/drfaust/Scrivania/uni/Magistrale/SCPD/Project/DistributedCrack/doc/data/broadwell.csv')"
   ]
  },
  {
   "cell_type": "code",
   "execution_count": 7,
   "id": "9df13514",
   "metadata": {},
   "outputs": [
    {
     "data": {
      "application/vnd.microsoft.datawrangler.viewer.v0+json": {
       "columns": [
        {
         "name": "index",
         "rawType": "int64",
         "type": "integer"
        },
        {
         "name": "time_stamp",
         "rawType": "int64",
         "type": "integer"
        }
       ],
       "ref": "a57f4fec-727b-4aa7-9eeb-e92f93f8b915",
       "rows": [
        [
         "0",
         "1748371503"
        ],
        [
         "4",
         "1748371546"
        ],
        [
         "9",
         "1748371585"
        ],
        [
         "15",
         "1748371733"
        ],
        [
         "45",
         "1748372881"
        ],
        [
         "100",
         "1748377106"
        ]
       ],
       "shape": {
        "columns": 1,
        "rows": 6
       }
      },
      "text/plain": [
       "0      1748371503\n",
       "4      1748371546\n",
       "9      1748371585\n",
       "15     1748371733\n",
       "45     1748372881\n",
       "100    1748377106\n",
       "Name: time_stamp, dtype: int64"
      ]
     },
     "execution_count": 7,
     "metadata": {},
     "output_type": "execute_result"
    }
   ],
   "source": [
    "sessions = stats[\"time_stamp\"].drop_duplicates()\n",
    "sessions"
   ]
  },
  {
   "cell_type": "code",
   "execution_count": 18,
   "id": "0791e7d4",
   "metadata": {},
   "outputs": [],
   "source": [
    "data = stats.groupby('time_stamp')\n",
    "sessions = []\n",
    "for session in data:\n",
    "    sessions.append(session[1])"
   ]
  },
  {
   "cell_type": "code",
   "execution_count": null,
   "id": "e7d312e7",
   "metadata": {},
   "outputs": [
    {
     "data": {
      "application/vnd.microsoft.datawrangler.viewer.v0+json": {
       "columns": [
        {
         "name": "index",
         "rawType": "int64",
         "type": "integer"
        },
        {
         "name": "busy_time",
         "rawType": "int64",
         "type": "integer"
        }
       ],
       "ref": "9460059f-ded5-4d86-bae0-9b227517ac29",
       "rows": [
        [
         "0",
         "11571"
        ],
        [
         "1",
         "11571"
        ],
        [
         "2",
         "11577"
        ],
        [
         "3",
         "11578"
        ]
       ],
       "shape": {
        "columns": 1,
        "rows": 4
       }
      },
      "text/plain": [
       "0    11571\n",
       "1    11571\n",
       "2    11577\n",
       "3    11578\n",
       "Name: busy_time, dtype: int64"
      ]
     },
     "execution_count": 22,
     "metadata": {},
     "output_type": "execute_result"
    }
   ],
   "source": []
  }
 ],
 "metadata": {
  "kernelspec": {
   "display_name": "Python 3 (ipykernel)",
   "language": "python",
   "name": "python3"
  }
 },
 "nbformat": 4,
 "nbformat_minor": 5
}
